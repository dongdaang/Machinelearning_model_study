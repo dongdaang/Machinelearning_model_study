{
 "cells": [
  {
   "cell_type": "markdown",
   "id": "c3278518",
   "metadata": {},
   "source": [
    "# LightGBM\n",
    "\n",
    "### - 빠른 학습과 예측 시간\n",
    "### - 더 적은 메모리 사용\n",
    "### - 범주형 특징의 자동 변환과 최적 분할"
   ]
  },
  {
   "cell_type": "code",
   "execution_count": 1,
   "id": "6de6014a",
   "metadata": {},
   "outputs": [],
   "source": [
    "from lightgbm import LGBMClassifier, LGBMRegressor\n",
    "from lightgbm import plot_importance, plot_metric, plot_tree"
   ]
  },
  {
   "cell_type": "code",
   "execution_count": 2,
   "id": "49e96101",
   "metadata": {},
   "outputs": [],
   "source": [
    "from sklearn.datasets import load_iris, load_wine, load_breast_cancer\n",
    "from sklearn.datasets import load_boston, load_diabetes\n",
    "from sklearn.model_selection import train_test_split, cross_validate\n",
    "from sklearn.metrics import accuracy_score, precision_score, recall_score\n",
    "import matplotlib.pyplot as plt\n",
    "plt.style.use(['seaborn-whitegrid'])"
   ]
  },
  {
   "cell_type": "markdown",
   "id": "74a706a9",
   "metadata": {},
   "source": [
    "## LGBMClassifier"
   ]
  },
  {
   "cell_type": "code",
   "execution_count": 3,
   "id": "da2649b4",
   "metadata": {},
   "outputs": [],
   "source": [
    "iris = load_iris()\n",
    "x_train, x_test, y_train, y_test = train_test_split(iris.data, iris.target, test_size=0.2, random_state=123)"
   ]
  },
  {
   "cell_type": "code",
   "execution_count": 5,
   "id": "bae064f4",
   "metadata": {},
   "outputs": [
    {
     "name": "stderr",
     "output_type": "stream",
     "text": [
      "/Users/dongin-jang/opt/anaconda3/lib/python3.9/site-packages/lightgbm/sklearn.py:726: UserWarning: 'early_stopping_rounds' argument is deprecated and will be removed in a future release of LightGBM. Pass 'early_stopping()' callback via 'callbacks' argument instead.\n",
      "  _log_warning(\"'early_stopping_rounds' argument is deprecated and will be removed in a future release of LightGBM. \"\n",
      "/Users/dongin-jang/opt/anaconda3/lib/python3.9/site-packages/lightgbm/sklearn.py:736: UserWarning: 'verbose' argument is deprecated and will be removed in a future release of LightGBM. Pass 'log_evaluation()' callback via 'callbacks' argument instead.\n",
      "  _log_warning(\"'verbose' argument is deprecated and will be removed in a future release of LightGBM. \"\n"
     ]
    },
    {
     "name": "stdout",
     "output_type": "stream",
     "text": [
      "[1]\tvalid_0's multi_logloss: 0.95847\n",
      "[2]\tvalid_0's multi_logloss: 0.832184\n",
      "[3]\tvalid_0's multi_logloss: 0.731164\n",
      "[4]\tvalid_0's multi_logloss: 0.641056\n",
      "[5]\tvalid_0's multi_logloss: 0.571726\n",
      "[6]\tvalid_0's multi_logloss: 0.507286\n",
      "[7]\tvalid_0's multi_logloss: 0.454933\n",
      "[8]\tvalid_0's multi_logloss: 0.410205\n",
      "[9]\tvalid_0's multi_logloss: 0.372194\n",
      "[10]\tvalid_0's multi_logloss: 0.333919\n",
      "[11]\tvalid_0's multi_logloss: 0.310212\n",
      "[12]\tvalid_0's multi_logloss: 0.282326\n",
      "[13]\tvalid_0's multi_logloss: 0.257165\n",
      "[14]\tvalid_0's multi_logloss: 0.240836\n",
      "[15]\tvalid_0's multi_logloss: 0.225383\n",
      "[16]\tvalid_0's multi_logloss: 0.211583\n",
      "[17]\tvalid_0's multi_logloss: 0.199289\n",
      "[18]\tvalid_0's multi_logloss: 0.186269\n",
      "[19]\tvalid_0's multi_logloss: 0.171556\n",
      "[20]\tvalid_0's multi_logloss: 0.168245\n",
      "[21]\tvalid_0's multi_logloss: 0.161065\n",
      "[22]\tvalid_0's multi_logloss: 0.151371\n",
      "[23]\tvalid_0's multi_logloss: 0.148081\n",
      "[24]\tvalid_0's multi_logloss: 0.143843\n",
      "[25]\tvalid_0's multi_logloss: 0.140169\n",
      "[26]\tvalid_0's multi_logloss: 0.138303\n",
      "[27]\tvalid_0's multi_logloss: 0.134058\n",
      "[28]\tvalid_0's multi_logloss: 0.130884\n",
      "[29]\tvalid_0's multi_logloss: 0.128082\n",
      "[30]\tvalid_0's multi_logloss: 0.124975\n",
      "[31]\tvalid_0's multi_logloss: 0.122225\n",
      "[32]\tvalid_0's multi_logloss: 0.120298\n",
      "[33]\tvalid_0's multi_logloss: 0.117257\n",
      "[34]\tvalid_0's multi_logloss: 0.115021\n",
      "[35]\tvalid_0's multi_logloss: 0.115037\n",
      "[36]\tvalid_0's multi_logloss: 0.115831\n",
      "[37]\tvalid_0's multi_logloss: 0.113318\n",
      "[38]\tvalid_0's multi_logloss: 0.115651\n",
      "[39]\tvalid_0's multi_logloss: 0.115772\n",
      "[40]\tvalid_0's multi_logloss: 0.114953\n",
      "[41]\tvalid_0's multi_logloss: 0.117056\n",
      "[42]\tvalid_0's multi_logloss: 0.115412\n",
      "[43]\tvalid_0's multi_logloss: 0.118359\n",
      "[44]\tvalid_0's multi_logloss: 0.117129\n",
      "[45]\tvalid_0's multi_logloss: 0.119174\n",
      "[46]\tvalid_0's multi_logloss: 0.117789\n",
      "[47]\tvalid_0's multi_logloss: 0.121333\n",
      "[48]\tvalid_0's multi_logloss: 0.120375\n",
      "[49]\tvalid_0's multi_logloss: 0.124128\n",
      "[50]\tvalid_0's multi_logloss: 0.123394\n",
      "[51]\tvalid_0's multi_logloss: 0.126631\n",
      "[52]\tvalid_0's multi_logloss: 0.129833\n",
      "[53]\tvalid_0's multi_logloss: 0.129069\n",
      "[54]\tvalid_0's multi_logloss: 0.135166\n",
      "[55]\tvalid_0's multi_logloss: 0.134996\n",
      "[56]\tvalid_0's multi_logloss: 0.13912\n",
      "[57]\tvalid_0's multi_logloss: 0.138818\n",
      "[58]\tvalid_0's multi_logloss: 0.142758\n",
      "[59]\tvalid_0's multi_logloss: 0.142228\n",
      "[60]\tvalid_0's multi_logloss: 0.142928\n",
      "[61]\tvalid_0's multi_logloss: 0.142513\n",
      "[62]\tvalid_0's multi_logloss: 0.143485\n",
      "[63]\tvalid_0's multi_logloss: 0.143408\n",
      "[64]\tvalid_0's multi_logloss: 0.148199\n",
      "[65]\tvalid_0's multi_logloss: 0.148074\n",
      "[66]\tvalid_0's multi_logloss: 0.156199\n",
      "[67]\tvalid_0's multi_logloss: 0.15898\n",
      "[68]\tvalid_0's multi_logloss: 0.157612\n",
      "[69]\tvalid_0's multi_logloss: 0.162526\n",
      "[70]\tvalid_0's multi_logloss: 0.166269\n",
      "[71]\tvalid_0's multi_logloss: 0.168114\n",
      "[72]\tvalid_0's multi_logloss: 0.173203\n",
      "[73]\tvalid_0's multi_logloss: 0.181871\n",
      "[74]\tvalid_0's multi_logloss: 0.181307\n",
      "[75]\tvalid_0's multi_logloss: 0.186251\n",
      "[76]\tvalid_0's multi_logloss: 0.185765\n",
      "[77]\tvalid_0's multi_logloss: 0.190847\n",
      "[78]\tvalid_0's multi_logloss: 0.190228\n",
      "[79]\tvalid_0's multi_logloss: 0.195371\n",
      "[80]\tvalid_0's multi_logloss: 0.199459\n",
      "[81]\tvalid_0's multi_logloss: 0.198517\n",
      "[82]\tvalid_0's multi_logloss: 0.203972\n",
      "[83]\tvalid_0's multi_logloss: 0.213262\n",
      "[84]\tvalid_0's multi_logloss: 0.212185\n",
      "[85]\tvalid_0's multi_logloss: 0.217603\n",
      "[86]\tvalid_0's multi_logloss: 0.227068\n",
      "[87]\tvalid_0's multi_logloss: 0.225914\n",
      "[88]\tvalid_0's multi_logloss: 0.230099\n",
      "[89]\tvalid_0's multi_logloss: 0.229018\n",
      "[90]\tvalid_0's multi_logloss: 0.23464\n",
      "[91]\tvalid_0's multi_logloss: 0.24434\n",
      "[92]\tvalid_0's multi_logloss: 0.243782\n",
      "[93]\tvalid_0's multi_logloss: 0.24814\n",
      "[94]\tvalid_0's multi_logloss: 0.25793\n",
      "[95]\tvalid_0's multi_logloss: 0.257366\n",
      "[96]\tvalid_0's multi_logloss: 0.261762\n",
      "[97]\tvalid_0's multi_logloss: 0.260774\n",
      "[98]\tvalid_0's multi_logloss: 0.270632\n",
      "[99]\tvalid_0's multi_logloss: 0.269316\n",
      "[100]\tvalid_0's multi_logloss: 0.269535\n",
      "[101]\tvalid_0's multi_logloss: 0.279374\n",
      "[102]\tvalid_0's multi_logloss: 0.278105\n",
      "[103]\tvalid_0's multi_logloss: 0.279826\n",
      "[104]\tvalid_0's multi_logloss: 0.282811\n",
      "[105]\tvalid_0's multi_logloss: 0.29269\n",
      "[106]\tvalid_0's multi_logloss: 0.297696\n",
      "[107]\tvalid_0's multi_logloss: 0.297028\n",
      "[108]\tvalid_0's multi_logloss: 0.29694\n",
      "[109]\tvalid_0's multi_logloss: 0.30682\n",
      "[110]\tvalid_0's multi_logloss: 0.306206\n",
      "[111]\tvalid_0's multi_logloss: 0.303895\n",
      "[112]\tvalid_0's multi_logloss: 0.300907\n",
      "[113]\tvalid_0's multi_logloss: 0.304274\n",
      "[114]\tvalid_0's multi_logloss: 0.314218\n",
      "[115]\tvalid_0's multi_logloss: 0.312988\n",
      "[116]\tvalid_0's multi_logloss: 0.317589\n",
      "[117]\tvalid_0's multi_logloss: 0.323073\n",
      "[118]\tvalid_0's multi_logloss: 0.333026\n",
      "[119]\tvalid_0's multi_logloss: 0.332652\n",
      "[120]\tvalid_0's multi_logloss: 0.337212\n",
      "[121]\tvalid_0's multi_logloss: 0.334481\n",
      "[122]\tvalid_0's multi_logloss: 0.340022\n",
      "[123]\tvalid_0's multi_logloss: 0.350061\n",
      "[124]\tvalid_0's multi_logloss: 0.351676\n",
      "[125]\tvalid_0's multi_logloss: 0.348515\n",
      "[126]\tvalid_0's multi_logloss: 0.358595\n",
      "[127]\tvalid_0's multi_logloss: 0.356737\n",
      "[128]\tvalid_0's multi_logloss: 0.351512\n",
      "[129]\tvalid_0's multi_logloss: 0.361591\n",
      "[130]\tvalid_0's multi_logloss: 0.35978\n",
      "[131]\tvalid_0's multi_logloss: 0.357317\n",
      "[132]\tvalid_0's multi_logloss: 0.367439\n",
      "[133]\tvalid_0's multi_logloss: 0.365665\n",
      "[134]\tvalid_0's multi_logloss: 0.365745\n",
      "[135]\tvalid_0's multi_logloss: 0.375832\n",
      "[136]\tvalid_0's multi_logloss: 0.374115\n",
      "[137]\tvalid_0's multi_logloss: 0.376748\n"
     ]
    }
   ],
   "source": [
    "lgbmc = LGBMClassifier(n_estimators=400)\n",
    "evals = [(x_test, y_test)]\n",
    "lgbmc.fit(x_train, y_train, early_stopping_rounds=100, eval_metric='logloss', eval_set=evals, verbose=True)\n",
    "preds = lgbmc.predict(x_test)"
   ]
  },
  {
   "cell_type": "code",
   "execution_count": 6,
   "id": "45e529fd",
   "metadata": {
    "scrolled": true
   },
   "outputs": [
    {
     "name": "stdout",
     "output_type": "stream",
     "text": [
      "avg fit time: 1.2641882419586181 (+/-0.11286614638197995)\n",
      "avg score time: 0.0019864559173583983 (+/-0.0008516376442785546)\n",
      "avg test score: 0.9600000000000002 (+/-0.04898979485566355)\n"
     ]
    }
   ],
   "source": [
    "cross_val = cross_validate(\n",
    "    estimator=lgbmc,\n",
    "    X=iris.data, y=iris.target,\n",
    "    cv=5\n",
    ")\n",
    "print('avg fit time: {} (+/-{})'.format(cross_val['fit_time'].mean(), cross_val['fit_time'].std()))\n",
    "print('avg score time: {} (+/-{})'.format(cross_val['score_time'].mean(), cross_val['score_time'].std()))\n",
    "print('avg test score: {} (+/-{})'.format(cross_val['test_score'].mean(), cross_val['test_score'].std()))"
   ]
  },
  {
   "cell_type": "code",
   "execution_count": 7,
   "id": "af67b6ce",
   "metadata": {},
   "outputs": [
    {
     "data": {
      "text/plain": [
       "<AxesSubplot:title={'center':'Metric during training'}, xlabel='Iterations', ylabel='multi_logloss'>"
      ]
     },
     "execution_count": 7,
     "metadata": {},
     "output_type": "execute_result"
    },
    {
     "data": {
      "image/png": "[encoded data removed]",
      "text/plain": [
       "<Figure size 432x288 with 1 Axes>"
      ]
     },
     "metadata": {},
     "output_type": "display_data"
    }
   ],
   "source": [
    "plot_metric(lgbmc)"
   ]
  },
  {
   "cell_type": "code",
   "execution_count": 8,
   "id": "08371ca6",
   "metadata": {},
   "outputs": [
    {
     "data": {
      "text/plain": [
       "<AxesSubplot:title={'center':'Feature importance'}, xlabel='Feature importance', ylabel='Features'>"
      ]
     },
     "execution_count": 8,
     "metadata": {},
     "output_type": "execute_result"
    },
    {
     "data": {
      "image/png": "[encoded data removed]",
      "text/plain": [
       "<Figure size 720x864 with 1 Axes>"
      ]
     },
     "metadata": {},
     "output_type": "display_data"
    }
   ],
   "source": [
    "plot_importance(lgbmc, figsize=(10, 12))"
   ]
  },
  {
   "cell_type": "markdown",
   "id": "182b2ded",
   "metadata": {},
   "source": [
    "## LGBMRegressor"
   ]
  },
  {
   "cell_type": "code",
   "execution_count": 10,
   "id": "8f39f1f0",
   "metadata": {},
   "outputs": [],
   "source": [
    "boston = load_boston()\n",
    "x_train, x_test, y_train, y_test = train_test_split(boston.data, boston.target, test_size=0.2, random_state=123)"
   ]
  },
  {
   "cell_type": "code",
   "execution_count": 11,
   "id": "ed5bf02c",
   "metadata": {},
   "outputs": [
    {
     "name": "stderr",
     "output_type": "stream",
     "text": [
      "/Users/dongin-jang/opt/anaconda3/lib/python3.9/site-packages/lightgbm/sklearn.py:726: UserWarning: 'early_stopping_rounds' argument is deprecated and will be removed in a future release of LightGBM. Pass 'early_stopping()' callback via 'callbacks' argument instead.\n",
      "  _log_warning(\"'early_stopping_rounds' argument is deprecated and will be removed in a future release of LightGBM. \"\n",
      "/Users/dongin-jang/opt/anaconda3/lib/python3.9/site-packages/lightgbm/sklearn.py:736: UserWarning: 'verbose' argument is deprecated and will be removed in a future release of LightGBM. Pass 'log_evaluation()' callback via 'callbacks' argument instead.\n",
      "  _log_warning(\"'verbose' argument is deprecated and will be removed in a future release of LightGBM. \"\n"
     ]
    },
    {
     "name": "stdout",
     "output_type": "stream",
     "text": [
      "[1]\tvalid_0's l2: 71.4897\n",
      "[2]\tvalid_0's l2: 61.8603\n",
      "[3]\tvalid_0's l2: 54.0848\n",
      "[4]\tvalid_0's l2: 47.9263\n",
      "[5]\tvalid_0's l2: 43.0702\n",
      "[6]\tvalid_0's l2: 39.268\n",
      "[7]\tvalid_0's l2: 36.2667\n",
      "[8]\tvalid_0's l2: 33.8931\n",
      "[9]\tvalid_0's l2: 31.7028\n",
      "[10]\tvalid_0's l2: 30.082\n",
      "[11]\tvalid_0's l2: 29.1638\n",
      "[12]\tvalid_0's l2: 27.9059\n",
      "[13]\tvalid_0's l2: 27.2503\n",
      "[14]\tvalid_0's l2: 26.3942\n",
      "[15]\tvalid_0's l2: 26.0862\n",
      "[16]\tvalid_0's l2: 25.6483\n",
      "[17]\tvalid_0's l2: 25.0221\n",
      "[18]\tvalid_0's l2: 24.919\n",
      "[19]\tvalid_0's l2: 24.5501\n",
      "[20]\tvalid_0's l2: 24.2858\n",
      "[21]\tvalid_0's l2: 23.9636\n",
      "[22]\tvalid_0's l2: 23.8872\n",
      "[23]\tvalid_0's l2: 23.676\n",
      "[24]\tvalid_0's l2: 23.5907\n",
      "[25]\tvalid_0's l2: 23.4353\n",
      "[26]\tvalid_0's l2: 23.1653\n",
      "[27]\tvalid_0's l2: 23.0198\n",
      "[28]\tvalid_0's l2: 22.8605\n",
      "[29]\tvalid_0's l2: 22.8311\n",
      "[30]\tvalid_0's l2: 22.8943\n",
      "[31]\tvalid_0's l2: 22.8056\n",
      "[32]\tvalid_0's l2: 22.9915\n",
      "[33]\tvalid_0's l2: 22.9286\n",
      "[34]\tvalid_0's l2: 23.0395\n",
      "[35]\tvalid_0's l2: 22.76\n",
      "[36]\tvalid_0's l2: 22.6387\n",
      "[37]\tvalid_0's l2: 22.4443\n",
      "[38]\tvalid_0's l2: 22.2704\n",
      "[39]\tvalid_0's l2: 22.3006\n",
      "[40]\tvalid_0's l2: 22.2952\n",
      "[41]\tvalid_0's l2: 22.1307\n",
      "[42]\tvalid_0's l2: 22.1636\n",
      "[43]\tvalid_0's l2: 22.1141\n",
      "[44]\tvalid_0's l2: 22.0672\n",
      "[45]\tvalid_0's l2: 22.1321\n",
      "[46]\tvalid_0's l2: 22.0597\n",
      "[47]\tvalid_0's l2: 22.0474\n",
      "[48]\tvalid_0's l2: 22.0256\n",
      "[49]\tvalid_0's l2: 22.035\n",
      "[50]\tvalid_0's l2: 22.0159\n",
      "[51]\tvalid_0's l2: 22.065\n",
      "[52]\tvalid_0's l2: 22.0541\n",
      "[53]\tvalid_0's l2: 22.0814\n",
      "[54]\tvalid_0's l2: 22.0893\n",
      "[55]\tvalid_0's l2: 22.0479\n",
      "[56]\tvalid_0's l2: 22.1003\n",
      "[57]\tvalid_0's l2: 22.0557\n",
      "[58]\tvalid_0's l2: 21.7922\n",
      "[59]\tvalid_0's l2: 21.8189\n",
      "[60]\tvalid_0's l2: 21.7386\n",
      "[61]\tvalid_0's l2: 21.7168\n",
      "[62]\tvalid_0's l2: 21.7115\n",
      "[63]\tvalid_0's l2: 21.701\n",
      "[64]\tvalid_0's l2: 21.7014\n",
      "[65]\tvalid_0's l2: 21.7404\n",
      "[66]\tvalid_0's l2: 21.6789\n",
      "[67]\tvalid_0's l2: 21.7204\n",
      "[68]\tvalid_0's l2: 21.5777\n",
      "[69]\tvalid_0's l2: 21.6198\n",
      "[70]\tvalid_0's l2: 21.5839\n",
      "[71]\tvalid_0's l2: 21.6884\n",
      "[72]\tvalid_0's l2: 21.6015\n",
      "[73]\tvalid_0's l2: 21.5699\n",
      "[74]\tvalid_0's l2: 21.4858\n",
      "[75]\tvalid_0's l2: 21.5765\n",
      "[76]\tvalid_0's l2: 21.6031\n",
      "[77]\tvalid_0's l2: 21.6219\n",
      "[78]\tvalid_0's l2: 21.6301\n",
      "[79]\tvalid_0's l2: 21.612\n",
      "[80]\tvalid_0's l2: 21.5436\n",
      "[81]\tvalid_0's l2: 21.5194\n",
      "[82]\tvalid_0's l2: 21.5417\n",
      "[83]\tvalid_0's l2: 21.4946\n",
      "[84]\tvalid_0's l2: 21.4425\n",
      "[85]\tvalid_0's l2: 21.4233\n",
      "[86]\tvalid_0's l2: 21.3872\n",
      "[87]\tvalid_0's l2: 21.3762\n",
      "[88]\tvalid_0's l2: 21.4272\n",
      "[89]\tvalid_0's l2: 21.438\n",
      "[90]\tvalid_0's l2: 21.344\n",
      "[91]\tvalid_0's l2: 21.345\n",
      "[92]\tvalid_0's l2: 21.3186\n",
      "[93]\tvalid_0's l2: 21.3274\n",
      "[94]\tvalid_0's l2: 21.2957\n",
      "[95]\tvalid_0's l2: 21.26\n",
      "[96]\tvalid_0's l2: 21.2603\n",
      "[97]\tvalid_0's l2: 21.2827\n",
      "[98]\tvalid_0's l2: 21.3051\n",
      "[99]\tvalid_0's l2: 21.2834\n",
      "[100]\tvalid_0's l2: 21.3165\n",
      "[101]\tvalid_0's l2: 21.3023\n",
      "[102]\tvalid_0's l2: 21.2676\n",
      "[103]\tvalid_0's l2: 21.2176\n",
      "[104]\tvalid_0's l2: 21.2177\n",
      "[105]\tvalid_0's l2: 21.1807\n",
      "[106]\tvalid_0's l2: 21.2001\n",
      "[107]\tvalid_0's l2: 21.1118\n",
      "[108]\tvalid_0's l2: 21.0817\n",
      "[109]\tvalid_0's l2: 21.1013\n",
      "[110]\tvalid_0's l2: 21.1094\n",
      "[111]\tvalid_0's l2: 21.101\n",
      "[112]\tvalid_0's l2: 21.101\n",
      "[113]\tvalid_0's l2: 21.1094\n",
      "[114]\tvalid_0's l2: 21.0509\n",
      "[115]\tvalid_0's l2: 21.0995\n",
      "[116]\tvalid_0's l2: 21.0609\n",
      "[117]\tvalid_0's l2: 21.0941\n",
      "[118]\tvalid_0's l2: 21.0647\n",
      "[119]\tvalid_0's l2: 21.0699\n",
      "[120]\tvalid_0's l2: 21.0765\n",
      "[121]\tvalid_0's l2: 21.037\n",
      "[122]\tvalid_0's l2: 21.0465\n",
      "[123]\tvalid_0's l2: 21.0126\n",
      "[124]\tvalid_0's l2: 20.9742\n",
      "[125]\tvalid_0's l2: 20.9642\n",
      "[126]\tvalid_0's l2: 20.8796\n",
      "[127]\tvalid_0's l2: 20.9024\n",
      "[128]\tvalid_0's l2: 20.8774\n",
      "[129]\tvalid_0's l2: 20.9096\n",
      "[130]\tvalid_0's l2: 20.8805\n",
      "[131]\tvalid_0's l2: 20.8545\n",
      "[132]\tvalid_0's l2: 20.8279\n",
      "[133]\tvalid_0's l2: 20.8158\n",
      "[134]\tvalid_0's l2: 20.8172\n",
      "[135]\tvalid_0's l2: 20.8382\n",
      "[136]\tvalid_0's l2: 20.7792\n",
      "[137]\tvalid_0's l2: 20.7777\n",
      "[138]\tvalid_0's l2: 20.7954\n",
      "[139]\tvalid_0's l2: 20.7684\n",
      "[140]\tvalid_0's l2: 20.7466\n",
      "[141]\tvalid_0's l2: 20.7187\n",
      "[142]\tvalid_0's l2: 20.7391\n",
      "[143]\tvalid_0's l2: 20.7233\n",
      "[144]\tvalid_0's l2: 20.7127\n",
      "[145]\tvalid_0's l2: 20.7507\n",
      "[146]\tvalid_0's l2: 20.7377\n",
      "[147]\tvalid_0's l2: 20.7573\n",
      "[148]\tvalid_0's l2: 20.7568\n",
      "[149]\tvalid_0's l2: 20.7379\n",
      "[150]\tvalid_0's l2: 20.7688\n",
      "[151]\tvalid_0's l2: 20.7569\n",
      "[152]\tvalid_0's l2: 20.7445\n",
      "[153]\tvalid_0's l2: 20.6999\n",
      "[154]\tvalid_0's l2: 20.708\n",
      "[155]\tvalid_0's l2: 20.6977\n",
      "[156]\tvalid_0's l2: 20.6999\n",
      "[157]\tvalid_0's l2: 20.6145\n",
      "[158]\tvalid_0's l2: 20.5975\n",
      "[159]\tvalid_0's l2: 20.6301\n",
      "[160]\tvalid_0's l2: 20.629\n",
      "[161]\tvalid_0's l2: 20.6649\n",
      "[162]\tvalid_0's l2: 20.665\n",
      "[163]\tvalid_0's l2: 20.6886\n",
      "[164]\tvalid_0's l2: 20.6037\n",
      "[165]\tvalid_0's l2: 20.6318\n",
      "[166]\tvalid_0's l2: 20.6459\n",
      "[167]\tvalid_0's l2: 20.6932\n",
      "[168]\tvalid_0's l2: 20.6919\n",
      "[169]\tvalid_0's l2: 20.6104\n",
      "[170]\tvalid_0's l2: 20.6265\n",
      "[171]\tvalid_0's l2: 20.6282\n",
      "[172]\tvalid_0's l2: 20.6417\n",
      "[173]\tvalid_0's l2: 20.6553\n",
      "[174]\tvalid_0's l2: 20.6323\n",
      "[175]\tvalid_0's l2: 20.6443\n",
      "[176]\tvalid_0's l2: 20.6543\n",
      "[177]\tvalid_0's l2: 20.7008\n",
      "[178]\tvalid_0's l2: 20.723\n",
      "[179]\tvalid_0's l2: 20.7306\n",
      "[180]\tvalid_0's l2: 20.736\n",
      "[181]\tvalid_0's l2: 20.7294\n",
      "[182]\tvalid_0's l2: 20.755\n",
      "[183]\tvalid_0's l2: 20.755\n",
      "[184]\tvalid_0's l2: 20.771\n",
      "[185]\tvalid_0's l2: 20.786\n",
      "[186]\tvalid_0's l2: 20.7358\n",
      "[187]\tvalid_0's l2: 20.7542\n",
      "[188]\tvalid_0's l2: 20.7231\n",
      "[189]\tvalid_0's l2: 20.727\n",
      "[190]\tvalid_0's l2: 20.6867\n",
      "[191]\tvalid_0's l2: 20.6892\n",
      "[192]\tvalid_0's l2: 20.657\n",
      "[193]\tvalid_0's l2: 20.6814\n",
      "[194]\tvalid_0's l2: 20.6621\n",
      "[195]\tvalid_0's l2: 20.669\n",
      "[196]\tvalid_0's l2: 20.6609\n",
      "[197]\tvalid_0's l2: 20.6772\n",
      "[198]\tvalid_0's l2: 20.6936\n",
      "[199]\tvalid_0's l2: 20.704\n",
      "[200]\tvalid_0's l2: 20.7257\n",
      "[201]\tvalid_0's l2: 20.7344\n",
      "[202]\tvalid_0's l2: 20.7444\n",
      "[203]\tvalid_0's l2: 20.7411\n",
      "[204]\tvalid_0's l2: 20.739\n",
      "[205]\tvalid_0's l2: 20.7553\n",
      "[206]\tvalid_0's l2: 20.7255\n",
      "[207]\tvalid_0's l2: 20.7147\n",
      "[208]\tvalid_0's l2: 20.6989\n",
      "[209]\tvalid_0's l2: 20.7302\n",
      "[210]\tvalid_0's l2: 20.7634\n",
      "[211]\tvalid_0's l2: 20.7711\n",
      "[212]\tvalid_0's l2: 20.7673\n",
      "[213]\tvalid_0's l2: 20.7859\n",
      "[214]\tvalid_0's l2: 20.8151\n",
      "[215]\tvalid_0's l2: 20.7938\n",
      "[216]\tvalid_0's l2: 20.8109\n",
      "[217]\tvalid_0's l2: 20.8195\n",
      "[218]\tvalid_0's l2: 20.7878\n",
      "[219]\tvalid_0's l2: 20.7897\n",
      "[220]\tvalid_0's l2: 20.7873\n",
      "[221]\tvalid_0's l2: 20.786\n",
      "[222]\tvalid_0's l2: 20.7639\n",
      "[223]\tvalid_0's l2: 20.7955\n",
      "[224]\tvalid_0's l2: 20.7977\n",
      "[225]\tvalid_0's l2: 20.7981\n",
      "[226]\tvalid_0's l2: 20.7879\n",
      "[227]\tvalid_0's l2: 20.7896\n",
      "[228]\tvalid_0's l2: 20.7986\n",
      "[229]\tvalid_0's l2: 20.7632\n",
      "[230]\tvalid_0's l2: 20.7138\n",
      "[231]\tvalid_0's l2: 20.7391\n",
      "[232]\tvalid_0's l2: 20.7311\n",
      "[233]\tvalid_0's l2: 20.7151\n",
      "[234]\tvalid_0's l2: 20.7238\n",
      "[235]\tvalid_0's l2: 20.7354\n",
      "[236]\tvalid_0's l2: 20.6997\n",
      "[237]\tvalid_0's l2: 20.7018\n",
      "[238]\tvalid_0's l2: 20.727\n",
      "[239]\tvalid_0's l2: 20.7073\n",
      "[240]\tvalid_0's l2: 20.7222\n",
      "[241]\tvalid_0's l2: 20.7264\n",
      "[242]\tvalid_0's l2: 20.7468\n",
      "[243]\tvalid_0's l2: 20.7343\n",
      "[244]\tvalid_0's l2: 20.7042\n",
      "[245]\tvalid_0's l2: 20.7047\n",
      "[246]\tvalid_0's l2: 20.719\n",
      "[247]\tvalid_0's l2: 20.7051\n",
      "[248]\tvalid_0's l2: 20.7341\n",
      "[249]\tvalid_0's l2: 20.7014\n",
      "[250]\tvalid_0's l2: 20.6835\n",
      "[251]\tvalid_0's l2: 20.7053\n",
      "[252]\tvalid_0's l2: 20.7308\n",
      "[253]\tvalid_0's l2: 20.7218\n",
      "[254]\tvalid_0's l2: 20.728\n",
      "[255]\tvalid_0's l2: 20.7079\n",
      "[256]\tvalid_0's l2: 20.6756\n",
      "[257]\tvalid_0's l2: 20.6701\n",
      "[258]\tvalid_0's l2: 20.6967\n"
     ]
    }
   ],
   "source": [
    "lgbmr = LGBMRegressor(n_estimators=400)\n",
    "evals = [(x_test, y_test)]\n",
    "lgbmr.fit(x_train, y_train, early_stopping_rounds=100, eval_metric='logloss', eval_set=evals, verbose=True)\n",
    "preds = lgbmr.predict(x_test)"
   ]
  },
  {
   "cell_type": "code",
   "execution_count": 12,
   "id": "d0d6c542",
   "metadata": {},
   "outputs": [
    {
     "name": "stdout",
     "output_type": "stream",
     "text": [
      "avg fit time: 1.3199752807617187 (+/-0.1686002343375921)\n",
      "avg score time: 0.0016835689544677734 (+/-0.0004322478893220817)\n",
      "avg test score: 0.5692468252571979 (+/-0.2956636613238221)\n"
     ]
    }
   ],
   "source": [
    "cross_val = cross_validate(\n",
    "    estimator=lgbmr,\n",
    "    X=boston.data, y=boston.target,\n",
    "    cv=5\n",
    ")\n",
    "print('avg fit time: {} (+/-{})'.format(cross_val['fit_time'].mean(), cross_val['fit_time'].std()))\n",
    "print('avg score time: {} (+/-{})'.format(cross_val['score_time'].mean(), cross_val['score_time'].std()))\n",
    "print('avg test score: {} (+/-{})'.format(cross_val['test_score'].mean(), cross_val['test_score'].std()))"
   ]
  },
  {
   "cell_type": "code",
   "execution_count": 13,
   "id": "6f868f83",
   "metadata": {},
   "outputs": [
    {
     "data": {
      "text/plain": [
       "<AxesSubplot:title={'center':'Metric during training'}, xlabel='Iterations', ylabel='l2'>"
      ]
     },
     "execution_count": 13,
     "metadata": {},
     "output_type": "execute_result"
    },
    {
     "data": {
      "image/png": "[encoded data removed]",
      "text/plain": [
       "<Figure size 432x288 with 1 Axes>"
      ]
     },
     "metadata": {},
     "output_type": "display_data"
    }
   ],
   "source": [
    "plot_metric(lgbmr)"
   ]
  },
  {
   "cell_type": "code",
   "execution_count": 14,
   "id": "c82857ba",
   "metadata": {},
   "outputs": [
    {
     "data": {
      "text/plain": [
       "<AxesSubplot:title={'center':'Feature importance'}, xlabel='Feature importance', ylabel='Features'>"
      ]
     },
     "execution_count": 14,
     "metadata": {},
     "output_type": "execute_result"
    },
    {
     "data": {
      "image/png": "[encoded data removed]",
      "text/plain": [
       "<Figure size 720x864 with 1 Axes>"
      ]
     },
     "metadata": {},
     "output_type": "display_data"
    }
   ],
   "source": [
    "plot_importance(lgbmr, figsize=(10, 12))"
   ]
  }
 ],
 "metadata": {
  "kernelspec": {
   "display_name": "Python 3 (ipykernel)",
   "language": "python",
   "name": "python3"
  },
  "language_info": {
   "codemirror_mode": {
    "name": "ipython",
    "version": 3
   },
   "file_extension": ".py",
   "mimetype": "text/x-python",
   "name": "python",
   "nbconvert_exporter": "python",
   "pygments_lexer": "ipython3",
   "version": "3.9.7"
  }
 },
 "nbformat": 4,
 "nbformat_minor": 5
}
