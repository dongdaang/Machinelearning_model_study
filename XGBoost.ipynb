{
 "cells": [
  {
   "cell_type": "markdown",
   "id": "9e527812",
   "metadata": {},
   "source": [
    "# XGBoost\n",
    "\n",
    "### - 트리 기반의 앙상블 기법\n",
    "### - 분류에 있어서 다른 알고리즘보다 좋은 예측 성능을 보여줌\n",
    "### - GBM 기반이지만, GBM의 단점인 느린 수행 시간과 과적합 규제 부재 등의 문제를 해결\n",
    "### - 병렬 CPU 환경에서 빠르게 학습 가능"
   ]
  },
  {
   "cell_type": "code",
   "execution_count": 1,
   "id": "b817a58e",
   "metadata": {},
   "outputs": [],
   "source": [
    "from sklearn.datasets import load_iris, load_wine, load_breast_cancer\n",
    "from sklearn.datasets import load_boston, load_diabetes\n",
    "from sklearn.model_selection import train_test_split, cross_validate\n",
    "from sklearn.metrics import accuracy_score, precision_score, recall_score\n",
    "\n",
    "import xgboost as xgb\n",
    "from xgboost import XGBClassifier, XGBRegressor\n",
    "from xgboost import plot_importance, plot_tree\n",
    "\n",
    "import matplotlib.pyplot as plt\n",
    "plt.style.use(['seaborn-whitegrid'])"
   ]
  },
  {
   "cell_type": "markdown",
   "id": "55d74a4a",
   "metadata": {},
   "source": [
    "## 파이썬 기반 XGBoost"
   ]
  },
  {
   "cell_type": "code",
   "execution_count": 2,
   "id": "855488b2",
   "metadata": {},
   "outputs": [],
   "source": [
    "cancer = load_breast_cancer()\n",
    "x_train, x_test, y_train, y_test = train_test_split(cancer.data, cancer.target, test_size=0.2, random_state=123)\n",
    "dtrain = xgb.DMatrix(data=x_train, label=y_train)\n",
    "dtest = xgb.DMatrix(data=x_test, label=y_test)"
   ]
  },
  {
   "cell_type": "code",
   "execution_count": 12,
   "id": "56ebc614",
   "metadata": {},
   "outputs": [],
   "source": [
    "params = {\n",
    "    'max_depth': 3,\n",
    "    'eta': 0.1,\n",
    "    'objective': 'binary:logistic',\n",
    "    'eval_metric': 'logloss'\n",
    "}\n",
    "num_rounds=400"
   ]
  },
  {
   "cell_type": "code",
   "execution_count": 13,
   "id": "80faff39",
   "metadata": {
    "scrolled": true
   },
   "outputs": [
    {
     "name": "stdout",
     "output_type": "stream",
     "text": [
      "[0]\ttrain-logloss:0.60944\teval-logloss:0.61010\n",
      "[1]\ttrain-logloss:0.54047\teval-logloss:0.54074\n",
      "[2]\ttrain-logloss:0.48211\teval-logloss:0.48490\n",
      "[3]\ttrain-logloss:0.43365\teval-logloss:0.43922\n",
      "[4]\ttrain-logloss:0.39072\teval-logloss:0.39791\n",
      "[5]\ttrain-logloss:0.35372\teval-logloss:0.36211\n",
      "[6]\ttrain-logloss:0.32222\teval-logloss:0.32996\n",
      "[7]\ttrain-logloss:0.29292\teval-logloss:0.30179\n",
      "[8]\ttrain-logloss:0.26731\teval-logloss:0.27801\n",
      "[9]\ttrain-logloss:0.24409\teval-logloss:0.25775\n",
      "[10]\ttrain-logloss:0.22517\teval-logloss:0.24037\n",
      "[11]\ttrain-logloss:0.20807\teval-logloss:0.22271\n",
      "[12]\ttrain-logloss:0.19177\teval-logloss:0.20795\n",
      "[13]\ttrain-logloss:0.17746\teval-logloss:0.19531\n",
      "[14]\ttrain-logloss:0.16408\teval-logloss:0.18460\n",
      "[15]\ttrain-logloss:0.15250\teval-logloss:0.17183\n",
      "[16]\ttrain-logloss:0.14198\teval-logloss:0.16152\n",
      "[17]\ttrain-logloss:0.13270\teval-logloss:0.15443\n",
      "[18]\ttrain-logloss:0.12326\teval-logloss:0.14913\n",
      "[19]\ttrain-logloss:0.11591\teval-logloss:0.14175\n",
      "[20]\ttrain-logloss:0.10884\teval-logloss:0.13378\n",
      "[21]\ttrain-logloss:0.10239\teval-logloss:0.12809\n",
      "[22]\ttrain-logloss:0.09642\teval-logloss:0.12310\n",
      "[23]\ttrain-logloss:0.09119\teval-logloss:0.11735\n",
      "[24]\ttrain-logloss:0.08610\teval-logloss:0.11254\n",
      "[25]\ttrain-logloss:0.08099\teval-logloss:0.11103\n",
      "[26]\ttrain-logloss:0.07652\teval-logloss:0.10784\n",
      "[27]\ttrain-logloss:0.07218\teval-logloss:0.10637\n",
      "[28]\ttrain-logloss:0.06852\teval-logloss:0.10329\n",
      "[29]\ttrain-logloss:0.06528\teval-logloss:0.10023\n",
      "[30]\ttrain-logloss:0.06210\teval-logloss:0.09734\n",
      "[31]\ttrain-logloss:0.05907\teval-logloss:0.09495\n",
      "[32]\ttrain-logloss:0.05643\teval-logloss:0.09249\n",
      "[33]\ttrain-logloss:0.05375\teval-logloss:0.09052\n",
      "[34]\ttrain-logloss:0.05139\teval-logloss:0.08892\n",
      "[35]\ttrain-logloss:0.04934\teval-logloss:0.08715\n",
      "[36]\ttrain-logloss:0.04722\teval-logloss:0.08596\n",
      "[37]\ttrain-logloss:0.04532\teval-logloss:0.08400\n",
      "[38]\ttrain-logloss:0.04353\teval-logloss:0.08311\n",
      "[39]\ttrain-logloss:0.04177\teval-logloss:0.08118\n",
      "[40]\ttrain-logloss:0.04024\teval-logloss:0.07966\n",
      "[41]\ttrain-logloss:0.03880\teval-logloss:0.07900\n",
      "[42]\ttrain-logloss:0.03753\teval-logloss:0.07877\n",
      "[43]\ttrain-logloss:0.03627\teval-logloss:0.07849\n",
      "[44]\ttrain-logloss:0.03508\teval-logloss:0.07727\n",
      "[45]\ttrain-logloss:0.03395\teval-logloss:0.07715\n",
      "[46]\ttrain-logloss:0.03276\teval-logloss:0.07628\n",
      "[47]\ttrain-logloss:0.03177\teval-logloss:0.07591\n",
      "[48]\ttrain-logloss:0.03083\teval-logloss:0.07610\n",
      "[49]\ttrain-logloss:0.02967\teval-logloss:0.07658\n",
      "[50]\ttrain-logloss:0.02871\teval-logloss:0.07621\n",
      "[51]\ttrain-logloss:0.02780\teval-logloss:0.07556\n",
      "[52]\ttrain-logloss:0.02694\teval-logloss:0.07539\n",
      "[53]\ttrain-logloss:0.02621\teval-logloss:0.07570\n",
      "[54]\ttrain-logloss:0.02551\teval-logloss:0.07568\n",
      "[55]\ttrain-logloss:0.02483\teval-logloss:0.07537\n",
      "[56]\ttrain-logloss:0.02424\teval-logloss:0.07557\n",
      "[57]\ttrain-logloss:0.02370\teval-logloss:0.07528\n",
      "[58]\ttrain-logloss:0.02305\teval-logloss:0.07551\n",
      "[59]\ttrain-logloss:0.02243\teval-logloss:0.07561\n",
      "[60]\ttrain-logloss:0.02186\teval-logloss:0.07556\n",
      "[61]\ttrain-logloss:0.02135\teval-logloss:0.07534\n",
      "[62]\ttrain-logloss:0.02087\teval-logloss:0.07603\n",
      "[63]\ttrain-logloss:0.02036\teval-logloss:0.07595\n",
      "[64]\ttrain-logloss:0.01988\teval-logloss:0.07646\n",
      "[65]\ttrain-logloss:0.01948\teval-logloss:0.07728\n",
      "[66]\ttrain-logloss:0.01905\teval-logloss:0.07730\n",
      "[67]\ttrain-logloss:0.01865\teval-logloss:0.07799\n",
      "[68]\ttrain-logloss:0.01826\teval-logloss:0.07806\n",
      "[69]\ttrain-logloss:0.01783\teval-logloss:0.07898\n",
      "[70]\ttrain-logloss:0.01752\teval-logloss:0.07841\n",
      "[71]\ttrain-logloss:0.01715\teval-logloss:0.07899\n",
      "[72]\ttrain-logloss:0.01678\teval-logloss:0.07991\n",
      "[73]\ttrain-logloss:0.01651\teval-logloss:0.08006\n",
      "[74]\ttrain-logloss:0.01615\teval-logloss:0.08071\n",
      "[75]\ttrain-logloss:0.01591\teval-logloss:0.08131\n",
      "[76]\ttrain-logloss:0.01563\teval-logloss:0.08158\n",
      "[77]\ttrain-logloss:0.01537\teval-logloss:0.08168\n",
      "[78]\ttrain-logloss:0.01509\teval-logloss:0.08221\n",
      "[79]\ttrain-logloss:0.01477\teval-logloss:0.08291\n",
      "[80]\ttrain-logloss:0.01453\teval-logloss:0.08235\n",
      "[81]\ttrain-logloss:0.01432\teval-logloss:0.08221\n",
      "[82]\ttrain-logloss:0.01413\teval-logloss:0.08198\n",
      "[83]\ttrain-logloss:0.01395\teval-logloss:0.08253\n",
      "[84]\ttrain-logloss:0.01374\teval-logloss:0.08292\n",
      "[85]\ttrain-logloss:0.01350\teval-logloss:0.08297\n",
      "[86]\ttrain-logloss:0.01329\teval-logloss:0.08268\n",
      "[87]\ttrain-logloss:0.01312\teval-logloss:0.08328\n",
      "[88]\ttrain-logloss:0.01295\teval-logloss:0.08334\n",
      "[89]\ttrain-logloss:0.01281\teval-logloss:0.08388\n",
      "[90]\ttrain-logloss:0.01263\teval-logloss:0.08419\n",
      "[91]\ttrain-logloss:0.01246\teval-logloss:0.08369\n",
      "[92]\ttrain-logloss:0.01224\teval-logloss:0.08380\n",
      "[93]\ttrain-logloss:0.01210\teval-logloss:0.08438\n",
      "[94]\ttrain-logloss:0.01196\teval-logloss:0.08443\n",
      "[95]\ttrain-logloss:0.01185\teval-logloss:0.08495\n",
      "[96]\ttrain-logloss:0.01169\teval-logloss:0.08533\n",
      "[97]\ttrain-logloss:0.01150\teval-logloss:0.08500\n",
      "[98]\ttrain-logloss:0.01137\teval-logloss:0.08553\n",
      "[99]\ttrain-logloss:0.01124\teval-logloss:0.08616\n",
      "[100]\ttrain-logloss:0.01114\teval-logloss:0.08635\n",
      "[101]\ttrain-logloss:0.01104\teval-logloss:0.08623\n",
      "[102]\ttrain-logloss:0.01094\teval-logloss:0.08689\n",
      "[103]\ttrain-logloss:0.01078\teval-logloss:0.08685\n",
      "[104]\ttrain-logloss:0.01069\teval-logloss:0.08633\n",
      "[105]\ttrain-logloss:0.01060\teval-logloss:0.08679\n",
      "[106]\ttrain-logloss:0.01051\teval-logloss:0.08744\n",
      "[107]\ttrain-logloss:0.01043\teval-logloss:0.08695\n",
      "[108]\ttrain-logloss:0.01034\teval-logloss:0.08737\n",
      "[109]\ttrain-logloss:0.01023\teval-logloss:0.08796\n",
      "[110]\ttrain-logloss:0.01015\teval-logloss:0.08771\n",
      "[111]\ttrain-logloss:0.01006\teval-logloss:0.08834\n",
      "[112]\ttrain-logloss:0.00995\teval-logloss:0.08863\n",
      "[113]\ttrain-logloss:0.00988\teval-logloss:0.08878\n",
      "[114]\ttrain-logloss:0.00980\teval-logloss:0.08831\n",
      "[115]\ttrain-logloss:0.00973\teval-logloss:0.08874\n",
      "[116]\ttrain-logloss:0.00965\teval-logloss:0.08865\n",
      "[117]\ttrain-logloss:0.00953\teval-logloss:0.08868\n",
      "[118]\ttrain-logloss:0.00945\teval-logloss:0.08930\n",
      "[119]\ttrain-logloss:0.00935\teval-logloss:0.08957\n",
      "[120]\ttrain-logloss:0.00932\teval-logloss:0.08968\n",
      "[121]\ttrain-logloss:0.00925\teval-logloss:0.08924\n",
      "[122]\ttrain-logloss:0.00918\teval-logloss:0.08966\n",
      "[123]\ttrain-logloss:0.00910\teval-logloss:0.09023\n",
      "[124]\ttrain-logloss:0.00903\teval-logloss:0.09082\n",
      "[125]\ttrain-logloss:0.00896\teval-logloss:0.09072\n",
      "[126]\ttrain-logloss:0.00893\teval-logloss:0.09083\n",
      "[127]\ttrain-logloss:0.00882\teval-logloss:0.09090\n",
      "[128]\ttrain-logloss:0.00876\teval-logloss:0.09052\n",
      "[129]\ttrain-logloss:0.00870\teval-logloss:0.09110\n",
      "[130]\ttrain-logloss:0.00865\teval-logloss:0.09069\n",
      "[131]\ttrain-logloss:0.00855\teval-logloss:0.09077\n",
      "[132]\ttrain-logloss:0.00850\teval-logloss:0.09134\n",
      "[133]\ttrain-logloss:0.00844\teval-logloss:0.09097\n",
      "[134]\ttrain-logloss:0.00835\teval-logloss:0.09124\n",
      "[135]\ttrain-logloss:0.00833\teval-logloss:0.09133\n",
      "[136]\ttrain-logloss:0.00826\teval-logloss:0.09125\n",
      "[137]\ttrain-logloss:0.00824\teval-logloss:0.09154\n",
      "[138]\ttrain-logloss:0.00819\teval-logloss:0.09176\n",
      "[139]\ttrain-logloss:0.00814\teval-logloss:0.09140\n",
      "[140]\ttrain-logloss:0.00812\teval-logloss:0.09168\n",
      "[141]\ttrain-logloss:0.00807\teval-logloss:0.09223\n",
      "[142]\ttrain-logloss:0.00801\teval-logloss:0.09277\n",
      "[143]\ttrain-logloss:0.00796\teval-logloss:0.09330\n",
      "[144]\ttrain-logloss:0.00793\teval-logloss:0.09322\n",
      "[145]\ttrain-logloss:0.00788\teval-logloss:0.09315\n",
      "[146]\ttrain-logloss:0.00784\teval-logloss:0.09336\n",
      "[147]\ttrain-logloss:0.00781\teval-logloss:0.09363\n",
      "[148]\ttrain-logloss:0.00777\teval-logloss:0.09328\n",
      "[149]\ttrain-logloss:0.00773\teval-logloss:0.09381\n",
      "[150]\ttrain-logloss:0.00771\teval-logloss:0.09407\n",
      "[151]\ttrain-logloss:0.00769\teval-logloss:0.09417\n",
      "[152]\ttrain-logloss:0.00763\teval-logloss:0.09438\n",
      "[153]\ttrain-logloss:0.00758\teval-logloss:0.09489\n",
      "[154]\ttrain-logloss:0.00755\teval-logloss:0.09527\n",
      "[155]\ttrain-logloss:0.00753\teval-logloss:0.09520\n",
      "[156]\ttrain-logloss:0.00751\teval-logloss:0.09506\n"
     ]
    }
   ],
   "source": [
    "evals = [(dtrain, 'train'), [dtest, 'eval']]\n",
    "xgb_model = xgb.train(params=params, dtrain=dtrain, num_boost_round=num_rounds, \n",
    "                     early_stopping_rounds=100, evals=evals)"
   ]
  },
  {
   "cell_type": "code",
   "execution_count": 16,
   "id": "0c7b3a59",
   "metadata": {},
   "outputs": [
    {
     "name": "stdout",
     "output_type": "stream",
     "text": [
      "[1.    0.999 0.001 0.995 0.001 0.989 0.995 0.998 0.966 0.795]\n"
     ]
    }
   ],
   "source": [
    "import numpy as np\n",
    "\n",
    "predicts = xgb_model.predict(dtest)\n",
    "print(np.round(predicts[:10], 3))"
   ]
  },
  {
   "cell_type": "code",
   "execution_count": 18,
   "id": "37325d25",
   "metadata": {},
   "outputs": [],
   "source": [
    "preds = [1 if x > 0.5 else 0 for x in predicts]"
   ]
  },
  {
   "cell_type": "code",
   "execution_count": 20,
   "id": "bb0b12d1",
   "metadata": {},
   "outputs": [
    {
     "name": "stdout",
     "output_type": "stream",
     "text": [
      "정확도: 0.9736842105263158\n",
      "정밀도: 0.972972972972973\n",
      "재현율: 0.9863013698630136\n"
     ]
    }
   ],
   "source": [
    "print('정확도: {}'.format(accuracy_score(y_test, preds)))    #전체 예측 건수에서 정답을 맞춘 건수의 비율\n",
    "print('정밀도: {}'.format(precision_score(y_test, preds)))   #예측한 True 중에서 정답이 True인 건수의 비율\n",
    "print('재현율: {}'.format(recall_score(y_test, preds)))      #실제 True인 건수에서 True로 예측한 건수의 비율"
   ]
  },
  {
   "cell_type": "code",
   "execution_count": 24,
   "id": "74e076b9",
   "metadata": {},
   "outputs": [
    {
     "data": {
      "text/plain": [
       "<AxesSubplot:title={'center':'Feature importance'}, xlabel='F score', ylabel='Features'>"
      ]
     },
     "execution_count": 24,
     "metadata": {},
     "output_type": "execute_result"
    },
    {
     "data": {
      "image/png": "[encoded data removed]",
      "text/plain": [
       "<Figure size 720x864 with 1 Axes>"
      ]
     },
     "metadata": {},
     "output_type": "display_data"
    }
   ],
   "source": [
    "fig, ax = plt.subplots(figsize=(10, 12))\n",
    "plot_importance(xgb_model, ax=ax)"
   ]
  },
  {
   "cell_type": "markdown",
   "id": "fd2cf9d4",
   "metadata": {},
   "source": [
    "## 사이킷런에 내포된 XGBoost"
   ]
  },
  {
   "cell_type": "code",
   "execution_count": 27,
   "id": "20fa72bb",
   "metadata": {},
   "outputs": [],
   "source": [
    "iris = load_iris()\n",
    "x_train, x_test, y_train, y_test = train_test_split(iris.data, iris.target, test_size=0.2, random_state=123)"
   ]
  },
  {
   "cell_type": "code",
   "execution_count": 29,
   "id": "4aa26e54",
   "metadata": {
    "scrolled": false
   },
   "outputs": [],
   "source": [
    "clf = XGBClassifier(n_estimators=400, learning_rate=0.1, max_depth=3)\n",
    "clf.fit(x_train, y_train, eval_metric='mlogloss')\n",
    "preds = clf.predict(x_test)\n",
    "preds_proba = clf.predict_proba(x_test)[:, 1]"
   ]
  },
  {
   "cell_type": "code",
   "execution_count": 34,
   "id": "4fd0ab00",
   "metadata": {},
   "outputs": [
    {
     "name": "stderr",
     "output_type": "stream",
     "text": [
      "/Users/dongin-jang/opt/anaconda3/lib/python3.9/site-packages/xgboost/sklearn.py:1224: UserWarning: The use of label encoder in XGBClassifier is deprecated and will be removed in a future release. To remove this warning, do the following: 1) Pass option use_label_encoder=False when constructing XGBClassifier object; and 2) Encode your labels (y) as integers starting with 0, i.e. 0, 1, 2, ..., [num_class - 1].\n",
      "  warnings.warn(label_encoder_deprecation_msg, UserWarning)\n"
     ]
    },
    {
     "name": "stdout",
     "output_type": "stream",
     "text": [
      "[16:44:48] WARNING: /Users/runner/miniforge3/conda-bld/xgboost-split_1645117948562/work/src/learner.cc:1115: Starting in XGBoost 1.3.0, the default evaluation metric used with the objective 'multi:softprob' was changed from 'merror' to 'mlogloss'. Explicitly set eval_metric if you'd like to restore the old behavior.\n"
     ]
    },
    {
     "name": "stderr",
     "output_type": "stream",
     "text": [
      "/Users/dongin-jang/opt/anaconda3/lib/python3.9/site-packages/xgboost/sklearn.py:1224: UserWarning: The use of label encoder in XGBClassifier is deprecated and will be removed in a future release. To remove this warning, do the following: 1) Pass option use_label_encoder=False when constructing XGBClassifier object; and 2) Encode your labels (y) as integers starting with 0, i.e. 0, 1, 2, ..., [num_class - 1].\n",
      "  warnings.warn(label_encoder_deprecation_msg, UserWarning)\n"
     ]
    },
    {
     "name": "stdout",
     "output_type": "stream",
     "text": [
      "[16:44:49] WARNING: /Users/runner/miniforge3/conda-bld/xgboost-split_1645117948562/work/src/learner.cc:1115: Starting in XGBoost 1.3.0, the default evaluation metric used with the objective 'multi:softprob' was changed from 'merror' to 'mlogloss'. Explicitly set eval_metric if you'd like to restore the old behavior.\n"
     ]
    },
    {
     "name": "stderr",
     "output_type": "stream",
     "text": [
      "/Users/dongin-jang/opt/anaconda3/lib/python3.9/site-packages/xgboost/sklearn.py:1224: UserWarning: The use of label encoder in XGBClassifier is deprecated and will be removed in a future release. To remove this warning, do the following: 1) Pass option use_label_encoder=False when constructing XGBClassifier object; and 2) Encode your labels (y) as integers starting with 0, i.e. 0, 1, 2, ..., [num_class - 1].\n",
      "  warnings.warn(label_encoder_deprecation_msg, UserWarning)\n"
     ]
    },
    {
     "name": "stdout",
     "output_type": "stream",
     "text": [
      "[16:44:50] WARNING: /Users/runner/miniforge3/conda-bld/xgboost-split_1645117948562/work/src/learner.cc:1115: Starting in XGBoost 1.3.0, the default evaluation metric used with the objective 'multi:softprob' was changed from 'merror' to 'mlogloss'. Explicitly set eval_metric if you'd like to restore the old behavior.\n"
     ]
    },
    {
     "name": "stderr",
     "output_type": "stream",
     "text": [
      "/Users/dongin-jang/opt/anaconda3/lib/python3.9/site-packages/xgboost/sklearn.py:1224: UserWarning: The use of label encoder in XGBClassifier is deprecated and will be removed in a future release. To remove this warning, do the following: 1) Pass option use_label_encoder=False when constructing XGBClassifier object; and 2) Encode your labels (y) as integers starting with 0, i.e. 0, 1, 2, ..., [num_class - 1].\n",
      "  warnings.warn(label_encoder_deprecation_msg, UserWarning)\n"
     ]
    },
    {
     "name": "stdout",
     "output_type": "stream",
     "text": [
      "[16:44:51] WARNING: /Users/runner/miniforge3/conda-bld/xgboost-split_1645117948562/work/src/learner.cc:1115: Starting in XGBoost 1.3.0, the default evaluation metric used with the objective 'multi:softprob' was changed from 'merror' to 'mlogloss'. Explicitly set eval_metric if you'd like to restore the old behavior.\n"
     ]
    },
    {
     "name": "stderr",
     "output_type": "stream",
     "text": [
      "/Users/dongin-jang/opt/anaconda3/lib/python3.9/site-packages/xgboost/sklearn.py:1224: UserWarning: The use of label encoder in XGBClassifier is deprecated and will be removed in a future release. To remove this warning, do the following: 1) Pass option use_label_encoder=False when constructing XGBClassifier object; and 2) Encode your labels (y) as integers starting with 0, i.e. 0, 1, 2, ..., [num_class - 1].\n",
      "  warnings.warn(label_encoder_deprecation_msg, UserWarning)\n"
     ]
    },
    {
     "name": "stdout",
     "output_type": "stream",
     "text": [
      "[16:44:51] WARNING: /Users/runner/miniforge3/conda-bld/xgboost-split_1645117948562/work/src/learner.cc:1115: Starting in XGBoost 1.3.0, the default evaluation metric used with the objective 'multi:softprob' was changed from 'merror' to 'mlogloss'. Explicitly set eval_metric if you'd like to restore the old behavior.\n",
      "avg fit time: 0.9154176712036133 (+/-0.060297142991587574)\n",
      "avg score time: 0.0015559673309326171 (+/-0.00043178365343661594)\n",
      "avg test score: 0.96 (+/-0.024944382578492935)\n"
     ]
    }
   ],
   "source": [
    "cross_val = cross_validate(\n",
    "    estimator=clf,\n",
    "    X=iris.data, y=iris.target,\n",
    "    cv=5\n",
    ")\n",
    "print('avg fit time: {} (+/-{})'.format(cross_val['fit_time'].mean(), cross_val['fit_time'].std()))\n",
    "print('avg score time: {} (+/-{})'.format(cross_val['score_time'].mean(), cross_val['score_time'].std()))\n",
    "print('avg test score: {} (+/-{})'.format(cross_val['test_score'].mean(), cross_val['test_score'].std()))"
   ]
  },
  {
   "cell_type": "code",
   "execution_count": 35,
   "id": "998a9f5e",
   "metadata": {},
   "outputs": [
    {
     "data": {
      "text/plain": [
       "<AxesSubplot:title={'center':'Feature importance'}, xlabel='F score', ylabel='Features'>"
      ]
     },
     "execution_count": 35,
     "metadata": {},
     "output_type": "execute_result"
    },
    {
     "data": {
      "image/png": "[encoded data removed]",
      "text/plain": [
       "<Figure size 720x864 with 1 Axes>"
      ]
     },
     "metadata": {},
     "output_type": "display_data"
    }
   ],
   "source": [
    "fig, ax = plt.subplots(figsize=(10, 12))\n",
    "plot_importance(clf, ax=ax)"
   ]
  },
  {
   "cell_type": "markdown",
   "id": "de57cb76",
   "metadata": {},
   "source": [
    "## XGBRegressor"
   ]
  },
  {
   "cell_type": "code",
   "execution_count": 36,
   "id": "23597faa",
   "metadata": {},
   "outputs": [],
   "source": [
    "boston = load_boston()\n",
    "x_train, x_test, y_train, y_test = train_test_split(boston.data, boston.target, test_size=0.2, random_state=123)"
   ]
  },
  {
   "cell_type": "code",
   "execution_count": 38,
   "id": "107a09fc",
   "metadata": {},
   "outputs": [],
   "source": [
    "clf = XGBRegressor(n_estimators=400, learning_rate=0.1, max_depth=3, objective='reg:squarederror')\n",
    "clf.fit(x_train, y_train)\n",
    "preds = clf.predict(x_test)"
   ]
  },
  {
   "cell_type": "code",
   "execution_count": 39,
   "id": "1a66c586",
   "metadata": {},
   "outputs": [
    {
     "name": "stdout",
     "output_type": "stream",
     "text": [
      "avg fit time: 0.48073158264160154 (+/-0.03319742722080278)\n",
      "avg score time: 0.0014796733856201171 (+/-0.00015258903801009804)\n",
      "avg test score: 0.6884390736705599 (+/-0.1649974770303876)\n"
     ]
    }
   ],
   "source": [
    "cross_val = cross_validate(\n",
    "    estimator=clf,\n",
    "    X=boston.data, y=boston.target,\n",
    "    cv=5\n",
    ")\n",
    "print('avg fit time: {} (+/-{})'.format(cross_val['fit_time'].mean(), cross_val['fit_time'].std()))\n",
    "print('avg score time: {} (+/-{})'.format(cross_val['score_time'].mean(), cross_val['score_time'].std()))\n",
    "print('avg test score: {} (+/-{})'.format(cross_val['test_score'].mean(), cross_val['test_score'].std()))"
   ]
  },
  {
   "cell_type": "code",
   "execution_count": 40,
   "id": "28e72334",
   "metadata": {},
   "outputs": [
    {
     "data": {
      "text/plain": [
       "<AxesSubplot:title={'center':'Feature importance'}, xlabel='F score', ylabel='Features'>"
      ]
     },
     "execution_count": 40,
     "metadata": {},
     "output_type": "execute_result"
    },
    {
     "data": {
      "image/png": "[encoded data removed]",
      "text/plain": [
       "<Figure size 720x864 with 1 Axes>"
      ]
     },
     "metadata": {},
     "output_type": "display_data"
    }
   ],
   "source": [
    "fig, ax = plt.subplots(figsize=(10, 12))\n",
    "plot_importance(clf, ax=ax)"
   ]
  },
  {
   "cell_type": "code",
   "execution_count": null,
   "id": "88815e80",
   "metadata": {},
   "outputs": [],
   "source": []
  }
 ],
 "metadata": {
  "kernelspec": {
   "display_name": "Python 3 (ipykernel)",
   "language": "python",
   "name": "python3"
  },
  "language_info": {
   "codemirror_mode": {
    "name": "ipython",
    "version": 3
   },
   "file_extension": ".py",
   "mimetype": "text/x-python",
   "name": "python",
   "nbconvert_exporter": "python",
   "pygments_lexer": "ipython3",
   "version": "3.9.7"
  }
 },
 "nbformat": 4,
 "nbformat_minor": 5
}
